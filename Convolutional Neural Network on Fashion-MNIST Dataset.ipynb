{
  "nbformat": 4,
  "nbformat_minor": 0,
  "metadata": {
    "colab": {
      "name": "Convolutional Neural Network on Fashion MNIST Dataset.ipynb",
      "provenance": [],
      "collapsed_sections": [
        "kfGQfpC57Gwr",
        "E2JmmHSgCEYg",
        "2i9a_RN7ArPL",
        "fzCdgXIx-4W9",
        "Ho1bhGx8-Swh"
      ],
      "authorship_tag": "ABX9TyPb1aWLAITRicY2zTtSRQ7u",
      "include_colab_link": true
    },
    "kernelspec": {
      "name": "python3",
      "display_name": "Python 3"
    },
    "language_info": {
      "name": "python"
    },
    "accelerator": "GPU"
  },
  "cells": [
    {
      "cell_type": "markdown",
      "metadata": {
        "id": "view-in-github",
        "colab_type": "text"
      },
      "source": [
        "<a href=\"https://colab.research.google.com/github/DevanshParmar/Data-Science-Summer-Camp-2021/blob/main/Convolutional%20Neural%20Network%20on%20Fashion-MNIST%20Dataset.ipynb\" target=\"_parent\"><img src=\"https://colab.research.google.com/assets/colab-badge.svg\" alt=\"Open In Colab\"/></a>"
      ]
    },
    {
      "cell_type": "markdown",
      "metadata": {
        "id": "w5ECzA7Q7tHH"
      },
      "source": [
        "## **Convolutional Neural Network on Fashion MNIST Dataset**\n",
        "This is a CNN Sequential Model implementation on the Fashion MNIST dataset. The code blocks which I played with and weren't effective have been deleted, and also the error-detection code sections, such as print(), type() etc. Hence the code has shortened to effectively about 100 lines."
      ]
    },
    {
      "cell_type": "markdown",
      "metadata": {
        "id": "kfGQfpC57Gwr"
      },
      "source": [
        "#### **Uploads**\n",
        "Setting up libraries and importing dataset files. Here we've imported the libraries, model, layers, optimizer and the dataset."
      ]
    },
    {
      "cell_type": "code",
      "metadata": {
        "id": "q6hAfkeBhiEM"
      },
      "source": [
        "import numpy as np\n",
        "import pandas as pd\n",
        "import tensorflow as tf\n",
        "import matplotlib.pyplot as plt\n",
        "import keras\n",
        "\n",
        "from sklearn.model_selection import train_test_split, KFold\n",
        "from skimage import io\n",
        "\n",
        "from keras.models import Sequential\n",
        "from keras.layers import Conv2D, MaxPooling2D, Dense, Flatten, Dropout, Activation, BatchNormalization\n",
        "from keras.optimizers import Adam\n",
        "from keras.preprocessing.image import ImageDataGenerator\n",
        "from keras.datasets import fashion_mnist"
      ],
      "execution_count": null,
      "outputs": []
    },
    {
      "cell_type": "markdown",
      "metadata": {
        "id": "E2JmmHSgCEYg"
      },
      "source": [
        "#### **Modeling**\n",
        "In the next blocks, we train our neural network.\n",
        "1. The first block defines the batch size, the number of epochs over which the model would be trained, the number of K-Fold splits and the learning rate.\n",
        "2. The second block defines the sequential CNN model, with various convolutional, normalizing and pooling layers, along with flattening, densing and dropout layers.\n",
        "3. The next block performs K-Fold Cross Validation.\n",
        "4. The last block compiles, runs, and trains the neural network.\n"
      ]
    },
    {
      "cell_type": "code",
      "metadata": {
        "id": "IVGQ17tw_hWG"
      },
      "source": [
        "im_rows = 28\n",
        "im_cols = 28\n",
        "n_batch_size = 500\n",
        "n_epochs = 5\n",
        "im_shape = (im_rows, im_cols, 1)\n",
        "\n",
        "splits = 20\n",
        "lrate = 0.001"
      ],
      "execution_count": null,
      "outputs": []
    },
    {
      "cell_type": "code",
      "metadata": {
        "id": "Zy7yUppUIMPF"
      },
      "source": [
        "cnn_model = Sequential([\n",
        "    Conv2D(filters=128, kernel_size=3, input_shape=im_shape, activation='relu'),\n",
        "    BatchNormalization(),\n",
        "\n",
        "    Conv2D(filters=128, kernel_size=3, activation='relu'),\n",
        "    BatchNormalization(),\n",
        "    MaxPooling2D(pool_size=4),\n",
        "    Dropout(0.2),\n",
        "\n",
        "    Conv2D(filters=256, kernel_size=3, activation='relu'),\n",
        "    BatchNormalization(),\n",
        "    MaxPooling2D(pool_size=2),\n",
        "    Dropout(0.2),\n",
        "    Flatten(),\n",
        "\n",
        "    Dense(512, activation='relu'),\n",
        "    BatchNormalization(),\n",
        "    Dropout(0.2),\n",
        "\n",
        "    Dense(128, activation='relu'),\n",
        "    BatchNormalization(),\n",
        "    Dropout(0.2),\n",
        "\n",
        "    Dense(32, activation='relu'),\n",
        "    BatchNormalization(),\n",
        "\n",
        "    Dense(10, activation='softmax')\n",
        "])"
      ],
      "execution_count": null,
      "outputs": []
    },
    {
      "cell_type": "code",
      "metadata": {
        "colab": {
          "base_uri": "https://localhost:8080/"
        },
        "id": "wlQeDwctSA3h",
        "outputId": "76db9cd2-fe82-4be1-89fc-58ab47eb172d"
      },
      "source": [
        "(X, Y), (X_validate, Y_validate) = fashion_mnist.load_data()\n",
        "assert X.shape == (60000, 28, 28)\n",
        "assert Y.shape == (60000,)\n",
        "X = np.asarray(X)\n",
        "\n",
        "kf = KFold(n_splits = splits, shuffle=True, random_state=None)\n",
        "kf.get_n_splits(X)"
      ],
      "execution_count": null,
      "outputs": [
        {
          "output_type": "stream",
          "text": [
            "<class 'numpy.ndarray'>\n",
            "<class 'numpy.ndarray'>\n"
          ],
          "name": "stdout"
        }
      ]
    },
    {
      "cell_type": "code",
      "metadata": {
        "colab": {
          "base_uri": "https://localhost:8080/"
        },
        "id": "wSEJ7Odwk__e",
        "outputId": "9d7fb382-5a61-42e5-c2d7-9e6660541722"
      },
      "source": [
        "cnn_model.compile(\n",
        "    optimizer=Adam(learning_rate=lrate),\n",
        "    loss='sparse_categorical_crossentropy',\n",
        "    metrics=['accuracy']\n",
        ")\n",
        "\n",
        "i = 0\n",
        "for train_index, test_index in kf.split(X, Y):\n",
        "    X_train, X_test = X[train_index], X[test_index]\n",
        "    Y_train, Y_test = Y[train_index], Y[test_index]\n",
        "    X_train = X_train.reshape(X_train.shape[0], 28, 28, 1)\n",
        "    X_test = X_test.reshape(X_test.shape[0], 28, 28, 1)\n",
        "    Y_train = Y_train.reshape(Y_train.shape[0], 1)\n",
        "    Y_test = Y_test.reshape(Y_test.shape[0], 1)\n",
        "\n",
        "    i += 1\n",
        "    cnnm = cnn_model.fit(X_train, Y_train, epochs=n_epochs, validation_data=(X_test, Y_test))\n",
        "    print(\" \")\n",
        "    if i == 1:\n",
        "        print(\"The model has run through 1/\" + str(splits) + \" iteration of the K-fold validation method.\")\n",
        "        print(\" \")\n",
        "    elif i != splits:\n",
        "        print(\"The model has run through \" + str(i) +\"/\" + str(splits) + \" iterations of the K-fold validation method.\")\n",
        "        print(\" \")\n",
        "print(\"The model has run through all iterations of the K-fold validation method.\")"
      ],
      "execution_count": null,
      "outputs": [
        {
          "output_type": "stream",
          "text": [
            "Epoch 1/5\n",
            "1782/1782 [==============================] - 18s 9ms/step - loss: 0.6877 - accuracy: 0.7620 - val_loss: 0.3079 - val_accuracy: 0.8810\n",
            "Epoch 2/5\n",
            "1782/1782 [==============================] - 15s 8ms/step - loss: 0.3512 - accuracy: 0.8734 - val_loss: 0.2713 - val_accuracy: 0.9030\n",
            "Epoch 3/5\n",
            "1782/1782 [==============================] - 14s 8ms/step - loss: 0.3085 - accuracy: 0.8891 - val_loss: 0.2435 - val_accuracy: 0.9117\n",
            "Epoch 4/5\n",
            "1782/1782 [==============================] - 14s 8ms/step - loss: 0.2783 - accuracy: 0.8989 - val_loss: 0.3117 - val_accuracy: 0.8780\n",
            "Epoch 5/5\n",
            "1782/1782 [==============================] - 14s 8ms/step - loss: 0.2490 - accuracy: 0.9092 - val_loss: 0.2227 - val_accuracy: 0.9167\n",
            " \n",
            "The model has run through 1/20 iteration of the K-fold validation method.\n",
            " \n",
            "Epoch 1/5\n",
            "1782/1782 [==============================] - 15s 8ms/step - loss: 0.2326 - accuracy: 0.9155 - val_loss: 0.2252 - val_accuracy: 0.9137\n",
            "Epoch 2/5\n",
            "1782/1782 [==============================] - 14s 8ms/step - loss: 0.2146 - accuracy: 0.9211 - val_loss: 0.2185 - val_accuracy: 0.9213\n",
            "Epoch 3/5\n",
            "1782/1782 [==============================] - 14s 8ms/step - loss: 0.1997 - accuracy: 0.9268 - val_loss: 0.2020 - val_accuracy: 0.9253\n",
            "Epoch 4/5\n",
            "1782/1782 [==============================] - 14s 8ms/step - loss: 0.1912 - accuracy: 0.9310 - val_loss: 0.2013 - val_accuracy: 0.9273\n",
            "Epoch 5/5\n",
            "1782/1782 [==============================] - 14s 8ms/step - loss: 0.1791 - accuracy: 0.9338 - val_loss: 0.2034 - val_accuracy: 0.9250\n",
            " \n",
            "The model has run through 2/20 iterations of the K-fold validation method.\n",
            " \n",
            "Epoch 1/5\n",
            "1782/1782 [==============================] - 15s 8ms/step - loss: 0.1725 - accuracy: 0.9369 - val_loss: 0.1322 - val_accuracy: 0.9487\n",
            "Epoch 2/5\n",
            "1782/1782 [==============================] - 14s 8ms/step - loss: 0.1691 - accuracy: 0.9374 - val_loss: 0.1457 - val_accuracy: 0.9450\n",
            "Epoch 3/5\n",
            "1782/1782 [==============================] - 15s 8ms/step - loss: 0.1551 - accuracy: 0.9437 - val_loss: 0.1346 - val_accuracy: 0.9477\n",
            "Epoch 4/5\n",
            "1782/1782 [==============================] - 14s 8ms/step - loss: 0.1460 - accuracy: 0.9462 - val_loss: 0.1601 - val_accuracy: 0.9407\n",
            "Epoch 5/5\n",
            "1782/1782 [==============================] - 14s 8ms/step - loss: 0.1421 - accuracy: 0.9481 - val_loss: 0.1392 - val_accuracy: 0.9483\n",
            " \n",
            "The model has run through 3/20 iterations of the K-fold validation method.\n",
            " \n",
            "Epoch 1/5\n",
            "1782/1782 [==============================] - 14s 8ms/step - loss: 0.1350 - accuracy: 0.9498 - val_loss: 0.1065 - val_accuracy: 0.9630\n",
            "Epoch 2/5\n",
            "1782/1782 [==============================] - 15s 8ms/step - loss: 0.1332 - accuracy: 0.9512 - val_loss: 0.1042 - val_accuracy: 0.9613\n",
            "Epoch 3/5\n",
            "1782/1782 [==============================] - 14s 8ms/step - loss: 0.1228 - accuracy: 0.9554 - val_loss: 0.1127 - val_accuracy: 0.9613\n",
            "Epoch 4/5\n",
            "1782/1782 [==============================] - 14s 8ms/step - loss: 0.1215 - accuracy: 0.9550 - val_loss: 0.0973 - val_accuracy: 0.9627\n",
            "Epoch 5/5\n",
            "1782/1782 [==============================] - 14s 8ms/step - loss: 0.1106 - accuracy: 0.9593 - val_loss: 0.0995 - val_accuracy: 0.9633\n",
            " \n",
            "The model has run through 4/20 iterations of the K-fold validation method.\n",
            " \n",
            "Epoch 1/5\n",
            "1782/1782 [==============================] - 15s 8ms/step - loss: 0.1132 - accuracy: 0.9586 - val_loss: 0.0725 - val_accuracy: 0.9710\n",
            "Epoch 2/5\n",
            "1782/1782 [==============================] - 14s 8ms/step - loss: 0.1057 - accuracy: 0.9607 - val_loss: 0.0718 - val_accuracy: 0.9737\n",
            "Epoch 3/5\n",
            "1782/1782 [==============================] - 14s 8ms/step - loss: 0.1002 - accuracy: 0.9635 - val_loss: 0.0670 - val_accuracy: 0.9707\n",
            "Epoch 4/5\n",
            "1782/1782 [==============================] - 14s 8ms/step - loss: 0.0964 - accuracy: 0.9642 - val_loss: 0.0680 - val_accuracy: 0.9773\n",
            "Epoch 5/5\n",
            "1782/1782 [==============================] - 15s 8ms/step - loss: 0.0922 - accuracy: 0.9652 - val_loss: 0.0687 - val_accuracy: 0.9727\n",
            " \n",
            "The model has run through 5/20 iterations of the K-fold validation method.\n",
            " \n",
            "Epoch 1/5\n",
            "1782/1782 [==============================] - 15s 8ms/step - loss: 0.0975 - accuracy: 0.9641 - val_loss: 0.0525 - val_accuracy: 0.9830\n",
            "Epoch 2/5\n",
            "1782/1782 [==============================] - 14s 8ms/step - loss: 0.0876 - accuracy: 0.9680 - val_loss: 0.0576 - val_accuracy: 0.9787\n",
            "Epoch 3/5\n",
            "1782/1782 [==============================] - 14s 8ms/step - loss: 0.0826 - accuracy: 0.9697 - val_loss: 0.0530 - val_accuracy: 0.9797\n",
            "Epoch 4/5\n",
            "1782/1782 [==============================] - 14s 8ms/step - loss: 0.0833 - accuracy: 0.9696 - val_loss: 0.0770 - val_accuracy: 0.9720\n",
            "Epoch 5/5\n",
            "1782/1782 [==============================] - 15s 8ms/step - loss: 0.0774 - accuracy: 0.9716 - val_loss: 0.0669 - val_accuracy: 0.9753\n",
            " \n",
            "The model has run through 6/20 iterations of the K-fold validation method.\n",
            " \n",
            "Epoch 1/5\n",
            "1782/1782 [==============================] - 14s 8ms/step - loss: 0.0790 - accuracy: 0.9705 - val_loss: 0.0320 - val_accuracy: 0.9907\n",
            "Epoch 2/5\n",
            "1782/1782 [==============================] - 15s 8ms/step - loss: 0.0728 - accuracy: 0.9740 - val_loss: 0.0394 - val_accuracy: 0.9887\n",
            "Epoch 3/5\n",
            "1782/1782 [==============================] - 14s 8ms/step - loss: 0.0709 - accuracy: 0.9747 - val_loss: 0.0412 - val_accuracy: 0.9843\n",
            "Epoch 4/5\n",
            "1782/1782 [==============================] - 14s 8ms/step - loss: 0.0707 - accuracy: 0.9745 - val_loss: 0.0476 - val_accuracy: 0.9823\n",
            "Epoch 5/5\n",
            "1782/1782 [==============================] - 14s 8ms/step - loss: 0.0661 - accuracy: 0.9763 - val_loss: 0.0504 - val_accuracy: 0.9830\n",
            " \n",
            "The model has run through 7/20 iterations of the K-fold validation method.\n",
            " \n",
            "Epoch 1/5\n",
            "1782/1782 [==============================] - 14s 8ms/step - loss: 0.0673 - accuracy: 0.9754 - val_loss: 0.0354 - val_accuracy: 0.9853\n",
            "Epoch 2/5\n",
            "1782/1782 [==============================] - 15s 8ms/step - loss: 0.0616 - accuracy: 0.9774 - val_loss: 0.0310 - val_accuracy: 0.9893\n",
            "Epoch 3/5\n",
            "1782/1782 [==============================] - 14s 8ms/step - loss: 0.0631 - accuracy: 0.9773 - val_loss: 0.0270 - val_accuracy: 0.9913\n",
            "Epoch 4/5\n",
            "1782/1782 [==============================] - 14s 8ms/step - loss: 0.0584 - accuracy: 0.9791 - val_loss: 0.0342 - val_accuracy: 0.9843\n",
            "Epoch 5/5\n",
            "1782/1782 [==============================] - 14s 8ms/step - loss: 0.0593 - accuracy: 0.9775 - val_loss: 0.0361 - val_accuracy: 0.9847\n",
            " \n",
            "The model has run through 8/20 iterations of the K-fold validation method.\n",
            " \n",
            "Epoch 1/5\n",
            "1782/1782 [==============================] - 15s 8ms/step - loss: 0.0584 - accuracy: 0.9794 - val_loss: 0.0326 - val_accuracy: 0.9877\n",
            "Epoch 2/5\n",
            "1782/1782 [==============================] - 14s 8ms/step - loss: 0.0559 - accuracy: 0.9792 - val_loss: 0.0397 - val_accuracy: 0.9840\n",
            "Epoch 3/5\n",
            "1782/1782 [==============================] - 14s 8ms/step - loss: 0.0647 - accuracy: 0.9766 - val_loss: 0.0245 - val_accuracy: 0.9927\n",
            "Epoch 4/5\n",
            "1782/1782 [==============================] - 14s 8ms/step - loss: 0.0473 - accuracy: 0.9830 - val_loss: 0.0290 - val_accuracy: 0.9893\n",
            "Epoch 5/5\n",
            "1782/1782 [==============================] - 15s 8ms/step - loss: 0.0499 - accuracy: 0.9820 - val_loss: 0.0307 - val_accuracy: 0.9880\n",
            " \n",
            "The model has run through 9/20 iterations of the K-fold validation method.\n",
            " \n",
            "Epoch 1/5\n",
            "1782/1782 [==============================] - 15s 8ms/step - loss: 0.0512 - accuracy: 0.9810 - val_loss: 0.0156 - val_accuracy: 0.9953\n",
            "Epoch 2/5\n",
            "1782/1782 [==============================] - 14s 8ms/step - loss: 0.0489 - accuracy: 0.9825 - val_loss: 0.0246 - val_accuracy: 0.9920\n",
            "Epoch 3/5\n",
            "1782/1782 [==============================] - 14s 8ms/step - loss: 0.0490 - accuracy: 0.9819 - val_loss: 0.0229 - val_accuracy: 0.9910\n",
            "Epoch 4/5\n",
            "1782/1782 [==============================] - 14s 8ms/step - loss: 0.0493 - accuracy: 0.9824 - val_loss: 0.0245 - val_accuracy: 0.9903\n",
            "Epoch 5/5\n",
            "1782/1782 [==============================] - 15s 8ms/step - loss: 0.0456 - accuracy: 0.9832 - val_loss: 0.0233 - val_accuracy: 0.9920\n",
            " \n",
            "The model has run through 10/20 iterations of the K-fold validation method.\n",
            " \n",
            "Epoch 1/5\n",
            "1782/1782 [==============================] - 14s 8ms/step - loss: 0.0469 - accuracy: 0.9836 - val_loss: 0.0127 - val_accuracy: 0.9963\n",
            "Epoch 2/5\n",
            "1782/1782 [==============================] - 14s 8ms/step - loss: 0.0440 - accuracy: 0.9841 - val_loss: 0.0168 - val_accuracy: 0.9950\n",
            "Epoch 3/5\n",
            "1782/1782 [==============================] - 14s 8ms/step - loss: 0.0461 - accuracy: 0.9832 - val_loss: 0.0201 - val_accuracy: 0.9927\n",
            "Epoch 4/5\n",
            "1782/1782 [==============================] - 15s 8ms/step - loss: 0.0429 - accuracy: 0.9847 - val_loss: 0.0257 - val_accuracy: 0.9903\n",
            "Epoch 5/5\n",
            "1782/1782 [==============================] - 15s 8ms/step - loss: 0.0434 - accuracy: 0.9848 - val_loss: 0.0170 - val_accuracy: 0.9947\n",
            " \n",
            "The model has run through 11/20 iterations of the K-fold validation method.\n",
            " \n",
            "Epoch 1/5\n",
            "1782/1782 [==============================] - 15s 8ms/step - loss: 0.0418 - accuracy: 0.9850 - val_loss: 0.0101 - val_accuracy: 0.9977\n",
            "Epoch 2/5\n",
            "1782/1782 [==============================] - 14s 8ms/step - loss: 0.0404 - accuracy: 0.9853 - val_loss: 0.0099 - val_accuracy: 0.9970\n",
            "Epoch 3/5\n",
            "1782/1782 [==============================] - 14s 8ms/step - loss: 0.0424 - accuracy: 0.9844 - val_loss: 0.0138 - val_accuracy: 0.9957\n",
            "Epoch 4/5\n",
            "1782/1782 [==============================] - 14s 8ms/step - loss: 0.0393 - accuracy: 0.9861 - val_loss: 0.0209 - val_accuracy: 0.9917\n",
            "Epoch 5/5\n",
            "1782/1782 [==============================] - 15s 8ms/step - loss: 0.0394 - accuracy: 0.9863 - val_loss: 0.0291 - val_accuracy: 0.9897\n",
            " \n",
            "The model has run through 12/20 iterations of the K-fold validation method.\n",
            " \n",
            "Epoch 1/5\n",
            "1782/1782 [==============================] - 15s 8ms/step - loss: 0.0412 - accuracy: 0.9852 - val_loss: 0.0069 - val_accuracy: 0.9977\n",
            "Epoch 2/5\n",
            "1782/1782 [==============================] - 14s 8ms/step - loss: 0.0356 - accuracy: 0.9875 - val_loss: 0.0060 - val_accuracy: 0.9987\n",
            "Epoch 3/5\n",
            "1782/1782 [==============================] - 14s 8ms/step - loss: 0.0354 - accuracy: 0.9874 - val_loss: 0.0088 - val_accuracy: 0.9963\n",
            "Epoch 4/5\n",
            "1782/1782 [==============================] - 15s 8ms/step - loss: 0.0352 - accuracy: 0.9876 - val_loss: 0.0090 - val_accuracy: 0.9977\n",
            "Epoch 5/5\n",
            "1782/1782 [==============================] - 15s 8ms/step - loss: 0.0335 - accuracy: 0.9876 - val_loss: 0.0093 - val_accuracy: 0.9973\n",
            " \n",
            "The model has run through 13/20 iterations of the K-fold validation method.\n",
            " \n",
            "Epoch 1/5\n",
            "1782/1782 [==============================] - 14s 8ms/step - loss: 0.0351 - accuracy: 0.9874 - val_loss: 0.0077 - val_accuracy: 0.9980\n",
            "Epoch 2/5\n",
            "1782/1782 [==============================] - 14s 8ms/step - loss: 0.0360 - accuracy: 0.9870 - val_loss: 0.0079 - val_accuracy: 0.9980\n",
            "Epoch 3/5\n",
            "1782/1782 [==============================] - 15s 8ms/step - loss: 0.0355 - accuracy: 0.9870 - val_loss: 0.0091 - val_accuracy: 0.9970\n",
            "Epoch 4/5\n",
            "1782/1782 [==============================] - 15s 8ms/step - loss: 0.0313 - accuracy: 0.9884 - val_loss: 0.0078 - val_accuracy: 0.9980\n",
            "Epoch 5/5\n",
            "1782/1782 [==============================] - 14s 8ms/step - loss: 0.0362 - accuracy: 0.9873 - val_loss: 0.0068 - val_accuracy: 0.9987\n",
            " \n",
            "The model has run through 14/20 iterations of the K-fold validation method.\n",
            " \n",
            "Epoch 1/5\n",
            "1782/1782 [==============================] - 14s 8ms/step - loss: 0.0314 - accuracy: 0.9890 - val_loss: 0.0073 - val_accuracy: 0.9970\n",
            "Epoch 2/5\n",
            "1782/1782 [==============================] - 15s 8ms/step - loss: 0.0319 - accuracy: 0.9892 - val_loss: 0.0069 - val_accuracy: 0.9983\n",
            "Epoch 3/5\n",
            "1782/1782 [==============================] - 15s 8ms/step - loss: 0.0303 - accuracy: 0.9886 - val_loss: 0.0076 - val_accuracy: 0.9980\n",
            "Epoch 4/5\n",
            "1782/1782 [==============================] - 15s 8ms/step - loss: 0.0304 - accuracy: 0.9890 - val_loss: 0.0048 - val_accuracy: 0.9990\n",
            "Epoch 5/5\n",
            "1782/1782 [==============================] - 15s 8ms/step - loss: 0.0293 - accuracy: 0.9894 - val_loss: 0.0110 - val_accuracy: 0.9963\n",
            " \n",
            "The model has run through 15/20 iterations of the K-fold validation method.\n",
            " \n",
            "Epoch 1/5\n",
            "1782/1782 [==============================] - 14s 8ms/step - loss: 0.0300 - accuracy: 0.9891 - val_loss: 0.0046 - val_accuracy: 0.9987\n",
            "Epoch 2/5\n",
            "1782/1782 [==============================] - 14s 8ms/step - loss: 0.0292 - accuracy: 0.9898 - val_loss: 0.0056 - val_accuracy: 0.9977\n",
            "Epoch 3/5\n",
            "1782/1782 [==============================] - 14s 8ms/step - loss: 0.0280 - accuracy: 0.9900 - val_loss: 0.0075 - val_accuracy: 0.9983\n",
            "Epoch 4/5\n",
            "1782/1782 [==============================] - 15s 8ms/step - loss: 0.0287 - accuracy: 0.9900 - val_loss: 0.0092 - val_accuracy: 0.9967\n",
            "Epoch 5/5\n",
            "1782/1782 [==============================] - 15s 8ms/step - loss: 0.0294 - accuracy: 0.9897 - val_loss: 0.0072 - val_accuracy: 0.9980\n",
            " \n",
            "The model has run through 16/20 iterations of the K-fold validation method.\n",
            " \n",
            "Epoch 1/5\n",
            "1782/1782 [==============================] - 14s 8ms/step - loss: 0.0297 - accuracy: 0.9895 - val_loss: 0.0028 - val_accuracy: 0.9997\n",
            "Epoch 2/5\n",
            "1782/1782 [==============================] - 14s 8ms/step - loss: 0.0269 - accuracy: 0.9906 - val_loss: 0.0031 - val_accuracy: 0.9993\n",
            "Epoch 3/5\n",
            "1782/1782 [==============================] - 15s 8ms/step - loss: 0.0273 - accuracy: 0.9907 - val_loss: 0.0038 - val_accuracy: 0.9983\n",
            "Epoch 4/5\n",
            "1782/1782 [==============================] - 15s 8ms/step - loss: 0.0276 - accuracy: 0.9904 - val_loss: 0.0039 - val_accuracy: 0.9987\n",
            "Epoch 5/5\n",
            "1782/1782 [==============================] - 14s 8ms/step - loss: 0.0286 - accuracy: 0.9903 - val_loss: 0.0049 - val_accuracy: 0.9983\n",
            " \n",
            "The model has run through 17/20 iterations of the K-fold validation method.\n",
            " \n",
            "Epoch 1/5\n",
            "1782/1782 [==============================] - 14s 8ms/step - loss: 0.0259 - accuracy: 0.9906 - val_loss: 0.0038 - val_accuracy: 0.9987\n",
            "Epoch 2/5\n",
            "1782/1782 [==============================] - 15s 8ms/step - loss: 0.0260 - accuracy: 0.9908 - val_loss: 0.0026 - val_accuracy: 0.9993\n",
            "Epoch 3/5\n",
            "1782/1782 [==============================] - 15s 8ms/step - loss: 0.0254 - accuracy: 0.9910 - val_loss: 0.0043 - val_accuracy: 0.9990\n",
            "Epoch 4/5\n",
            "1782/1782 [==============================] - 14s 8ms/step - loss: 0.0266 - accuracy: 0.9908 - val_loss: 0.0071 - val_accuracy: 0.9973\n",
            "Epoch 5/5\n",
            "1782/1782 [==============================] - 14s 8ms/step - loss: 0.0267 - accuracy: 0.9905 - val_loss: 0.0041 - val_accuracy: 0.9990\n",
            " \n",
            "The model has run through 18/20 iterations of the K-fold validation method.\n",
            " \n",
            "Epoch 1/5\n",
            "1782/1782 [==============================] - 15s 8ms/step - loss: 0.0241 - accuracy: 0.9917 - val_loss: 0.0031 - val_accuracy: 0.9993\n",
            "Epoch 2/5\n",
            "1782/1782 [==============================] - 15s 8ms/step - loss: 0.0272 - accuracy: 0.9899 - val_loss: 0.0038 - val_accuracy: 0.9993\n",
            "Epoch 3/5\n",
            "1782/1782 [==============================] - 14s 8ms/step - loss: 0.0253 - accuracy: 0.9909 - val_loss: 0.0044 - val_accuracy: 0.9987\n",
            "Epoch 4/5\n",
            "1782/1782 [==============================] - 14s 8ms/step - loss: 0.0227 - accuracy: 0.9919 - val_loss: 0.0044 - val_accuracy: 0.9990\n",
            "Epoch 5/5\n",
            "1782/1782 [==============================] - 15s 8ms/step - loss: 0.0246 - accuracy: 0.9912 - val_loss: 0.0054 - val_accuracy: 0.9987\n",
            " \n",
            "The model has run through 19/20 iterations of the K-fold validation method.\n",
            " \n",
            "Epoch 1/5\n",
            "1782/1782 [==============================] - 15s 8ms/step - loss: 0.0237 - accuracy: 0.9917 - val_loss: 0.0014 - val_accuracy: 1.0000\n",
            "Epoch 2/5\n",
            "1782/1782 [==============================] - 15s 8ms/step - loss: 0.0240 - accuracy: 0.9922 - val_loss: 0.0031 - val_accuracy: 0.9997\n",
            "Epoch 3/5\n",
            "1782/1782 [==============================] - 15s 8ms/step - loss: 0.0218 - accuracy: 0.9924 - val_loss: 0.0016 - val_accuracy: 0.9997\n",
            "Epoch 4/5\n",
            "1782/1782 [==============================] - 14s 8ms/step - loss: 0.0240 - accuracy: 0.9918 - val_loss: 0.0031 - val_accuracy: 0.9990\n",
            "Epoch 5/5\n",
            "1782/1782 [==============================] - 14s 8ms/step - loss: 0.0213 - accuracy: 0.9928 - val_loss: 0.0023 - val_accuracy: 0.9993\n",
            " \n",
            "The model has run through all iterations of the K-fold validation method.\n"
          ],
          "name": "stdout"
        }
      ]
    },
    {
      "cell_type": "markdown",
      "metadata": {
        "id": "2i9a_RN7ArPL"
      },
      "source": [
        "#### **Predictions and Accuracy**\n",
        "In the next block, we have the loss and accuracy over the training and validation datasets."
      ]
    },
    {
      "cell_type": "code",
      "metadata": {
        "id": "ZWxS2lDIxaZs",
        "colab": {
          "base_uri": "https://localhost:8080/"
        },
        "outputId": "b4acfe7a-8951-44e3-af95-a79ac26c79ca"
      },
      "source": [
        "loss_train = cnnm.history['loss']\n",
        "loss_valid = cnnm.history['val_loss']\n",
        "accu_train = [100*i for i in cnnm.history['accuracy']]\n",
        "accu_valid = [100*i for i in cnnm.history['val_accuracy']]\n",
        "\n",
        "epochs = range(1, 1+n_epochs)\n",
        "\n",
        "print('              Training Loss is {:.4f}'.format(loss_train[-1]))\n",
        "print('            Validation Loss is {:.4f}'.format(loss_valid[-1]))\n",
        "print(' ')\n",
        "print('          Training Accuracy is {:.2f}%'.format(accu_train[-1]))\n",
        "print('        Validation Accuracy is {:.2f}%'.format(accu_valid[-1]))\n",
        "print(' ')\n",
        "print('  Maximum Training Accuracy is {:.2f}%'.format(max(accu_train)))\n",
        "print('Maximum Validation Accuracy is {:.2f}%'.format(max(accu_valid)))"
      ],
      "execution_count": null,
      "outputs": [
        {
          "output_type": "stream",
          "text": [
            "              Training Loss is 0.0213\n",
            "            Validation Loss is 0.0023\n",
            " \n",
            "          Training Accuracy is 99.28%\n",
            "        Validation Accuracy is 99.93%\n",
            " \n",
            "  Maximum Training Accuracy is 99.28%\n",
            "Maximum Validation Accuracy is 100.00%\n"
          ],
          "name": "stdout"
        }
      ]
    },
    {
      "cell_type": "markdown",
      "metadata": {
        "id": "fzCdgXIx-4W9"
      },
      "source": [
        "#### **Plots**\n",
        "Two plots are plotted as following:\n",
        "1. Training and Validation loss, shown w.r.t. epochs.\n",
        "2. Training and Validation accuracy, shown w.r.t. epochs."
      ]
    },
    {
      "cell_type": "code",
      "metadata": {
        "id": "Nl_mIFOLKuOz",
        "colab": {
          "base_uri": "https://localhost:8080/",
          "height": 295
        },
        "outputId": "64120a01-f366-4b5a-af22-0caf1131470b"
      },
      "source": [
        "plt.plot(epochs, loss_train, color='lightseagreen', label='Training Loss')\n",
        "plt.plot(epochs, loss_valid, color='crimson', label='Validation Loss')\n",
        "plt.title('Training and Validation Loss')\n",
        "plt.xlabel('Epochs')\n",
        "plt.ylabel('Loss')\n",
        "plt.legend(['train', 'test'], loc='upper left')\n",
        "plt.show()"
      ],
      "execution_count": null,
      "outputs": [
        {
          "output_type": "display_data",
          "data": {
            "image/png": "[encoded data removed]",
            "text/plain": [
              "<Figure size 432x288 with 1 Axes>"
            ]
          },
          "metadata": {
            "tags": [],
            "needs_background": "light"
          }
        }
      ]
    },
    {
      "cell_type": "code",
      "metadata": {
        "id": "JwlnRsXVOPR_",
        "colab": {
          "base_uri": "https://localhost:8080/",
          "height": 295
        },
        "outputId": "d38fe6ef-7ca8-4c7e-95a7-d882a38a98c2"
      },
      "source": [
        "plt.plot(epochs, accu_train, color='lightseagreen', label='Training Accuracy')\n",
        "plt.plot(epochs, accu_valid, color='crimson', label='Validation Accuracy')\n",
        "plt.title('Training and Validation Accuracy')\n",
        "plt.xlabel('Epochs')\n",
        "plt.ylabel('Accuracy')\n",
        "plt.legend()\n",
        "plt.show()"
      ],
      "execution_count": null,
      "outputs": [
        {
          "output_type": "display_data",
          "data": {
            "image/png": "[encoded data removed]",
            "text/plain": [
              "<Figure size 432x288 with 1 Axes>"
            ]
          },
          "metadata": {
            "tags": [],
            "needs_background": "light"
          }
        }
      ]
    },
    {
      "cell_type": "markdown",
      "metadata": {
        "id": "RJ0AQtD3AfFx"
      },
      "source": [
        "Our model has a training set accuracy of around 99.3% and validation set accuracy of around 99.9%."
      ]
    },
    {
      "cell_type": "markdown",
      "metadata": {
        "id": "Ho1bhGx8-Swh"
      },
      "source": [
        "#### **References and Acknowledgements**\n",
        "1. Deeplizard YouTube channel's playlist on Neural Networks was a great help: www.youtube.com/playlist?list=PLZbbT5o_s2xq7LwI2y8_QtvuXZedL6tQU\\n\n",
        "2. Mark Jay's YouTube videos also assisted: www.youtube.com/playlist?list=PLX-LrBk6h3wR27xylD3Rsx4bbA15jlcYC\n",
        "3. For getting a hang of layers, I studied from this model: https://colab.research.google.com/github/timlovescoding/FASHION-MNIST/blob/master/Tim_Fashion_MNIST.ipynb\n",
        "4. For plotting the output, I studied from this site: www.pluralsight.com/guides/data-visualization-deep-learning-model-using-matplotlib\n",
        "5. My friends helped me greatly during this assignment. Sincere thanks to Yatish Goel, Atharv Singh Patlan, Shiven Tripathi, Ananya Gupta and Rishabh Dugaye among others."
      ]
    }
  ]
}